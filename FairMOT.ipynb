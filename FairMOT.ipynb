{
  "nbformat": 4,
  "nbformat_minor": 0,
  "metadata": {
    "accelerator": "GPU",
    "colab": {
      "name": "FairMOT.ipynb",
      "provenance": [],
      "collapsed_sections": []
    },
    "kernelspec": {
      "display_name": "Python 3",
      "name": "python3"
    }
  },
  "cells": [
    {
      "cell_type": "markdown",
      "metadata": {
        "id": "2DB3J4CwIgag"
      },
      "source": [
        "## Google Drive Integration"
      ]
    },
    {
      "cell_type": "markdown",
      "metadata": {
        "id": "L4prtchGG_JM"
      },
      "source": [
        "Please add this [folder](https://drive.google.com/drive/folders/1yFhk4pyD1SO-URx-RzGR1dwnb42E3WWs?usp=sharing) to your goole drive and save it as \"graduation_project\" and leave the rest for the notebook to handle"
      ]
    },
    {
      "cell_type": "code",
      "metadata": {
        "colab": {
          "base_uri": "https://localhost:8080/"
        },
        "id": "dUHgZiSOK9I4",
        "outputId": "aa520b8a-42f9-4b85-9135-22d8acc87001"
      },
      "source": [
        "from google.colab import drive\n",
        "drive.mount('/content/drive')"
      ],
      "execution_count": null,
      "outputs": [
        {
          "output_type": "stream",
          "text": [
            "Drive already mounted at /content/drive; to attempt to forcibly remount, call drive.mount(\"/content/drive\", force_remount=True).\n"
          ],
          "name": "stdout"
        }
      ]
    },
    {
      "cell_type": "markdown",
      "metadata": {
        "id": "mUp_dWtkFFyY"
      },
      "source": [
        "## Environment Setup"
      ]
    },
    {
      "cell_type": "code",
      "metadata": {
        "colab": {
          "base_uri": "https://localhost:8080/"
        },
        "id": "luQC0ilIhF5h",
        "outputId": "f3221172-13ba-4b30-b570-296d129a50fe"
      },
      "source": [
        "!wget --header=\"Host: repo.anaconda.com\" --header=\"User-Agent: Mozilla/5.0 (X11; Linux x86_64) AppleWebKit/537.36 (KHTML, like Gecko) Chrome/88.0.4324.152 Safari/537.36\" --header=\"Accept: text/html,application/xhtml+xml,application/xml;q=0.9,image/avif,image/webp,image/apng,*/*;q=0.8,application/signed-exchange;v=b3;q=0.9\" --header=\"Accept-Language: en-US,en;q=0.9\" --header=\"Referer: https://repo.anaconda.com/archive/\" --header=\"Cookie: __cfduid=d17bf248e06cfa5018d01802a9bda0b2b1617822751\" --header=\"Connection: keep-alive\" \"https://repo.anaconda.com/archive/Anaconda3-5.3.1-Linux-x86_64.sh\" -c -O 'Anaconda3-5.3.1-Linux-x86_64.sh'"
      ],
      "execution_count": null,
      "outputs": [
        {
          "output_type": "stream",
          "text": [
            "--2021-07-10 09:23:49--  https://repo.anaconda.com/archive/Anaconda3-5.3.1-Linux-x86_64.sh\n",
            "Resolving repo.anaconda.com (repo.anaconda.com)... 104.16.130.3, 104.16.131.3, 2606:4700::6810:8303, ...\n",
            "Connecting to repo.anaconda.com (repo.anaconda.com)|104.16.130.3|:443... connected.\n",
            "HTTP request sent, awaiting response... 416 Requested Range Not Satisfiable\n",
            "\n",
            "    The file is already fully retrieved; nothing to do.\n",
            "\n"
          ],
          "name": "stdout"
        }
      ]
    },
    {
      "cell_type": "code",
      "metadata": {
        "colab": {
          "base_uri": "https://localhost:8080/"
        },
        "id": "HExu4Trqx6eF",
        "outputId": "d5e437ca-b132-4561-f742-fb99767af51f"
      },
      "source": [
        "%env PYTHONPATH="
      ],
      "execution_count": null,
      "outputs": [
        {
          "output_type": "stream",
          "text": [
            "env: PYTHONPATH=\n"
          ],
          "name": "stdout"
        }
      ]
    },
    {
      "cell_type": "code",
      "metadata": {
        "colab": {
          "base_uri": "https://localhost:8080/"
        },
        "id": "0bDmNGbd0zeJ",
        "outputId": "65d64849-651e-464c-e8bb-e37f4fe7a2e1"
      },
      "source": [
        "%%bash\n",
        "MINICONDA_INSTALLER_SCRIPT=Anaconda3-5.3.1-Linux-x86_64.sh\n",
        "MINICONDA_PREFIX=/usr/local\n",
        "# wget https://repo.continuum.io/miniconda/$MINICONDA_INSTALLER_SCRIPT\n",
        "chmod +x $MINICONDA_INSTALLER_SCRIPT\n",
        "./$MINICONDA_INSTALLER_SCRIPT -b -f -p $MINICONDA_PREFIX"
      ],
      "execution_count": null,
      "outputs": [
        {
          "output_type": "stream",
          "text": [
            "PREFIX=/usr/local\n",
            "reinstalling: python-3.7.0-hc3d631a_0 ...\n",
            "Python 3.7.0\n",
            "reinstalling: blas-1.0-mkl ...\n",
            "reinstalling: ca-certificates-2018.03.07-0 ...\n",
            "reinstalling: conda-env-2.6.0-1 ...\n",
            "reinstalling: intel-openmp-2019.0-118 ...\n",
            "reinstalling: libgcc-ng-8.2.0-hdf63c60_1 ...\n",
            "reinstalling: libgfortran-ng-7.3.0-hdf63c60_0 ...\n",
            "reinstalling: libstdcxx-ng-8.2.0-hdf63c60_1 ...\n",
            "reinstalling: bzip2-1.0.6-h14c3975_5 ...\n",
            "reinstalling: expat-2.2.6-he6710b0_0 ...\n",
            "reinstalling: fribidi-1.0.5-h7b6447c_0 ...\n",
            "reinstalling: gmp-6.1.2-h6c8ec71_1 ...\n",
            "reinstalling: graphite2-1.3.12-h23475e2_2 ...\n",
            "reinstalling: icu-58.2-h9c2bf20_1 ...\n",
            "reinstalling: jbig-2.1-hdba287a_0 ...\n",
            "reinstalling: jpeg-9b-h024ee3a_2 ...\n",
            "reinstalling: libffi-3.2.1-hd88cf55_4 ...\n",
            "reinstalling: libsodium-1.0.16-h1bed415_0 ...\n",
            "reinstalling: libtool-2.4.6-h544aabb_3 ...\n",
            "reinstalling: libuuid-1.0.3-h1bed415_2 ...\n",
            "reinstalling: libxcb-1.13-h1bed415_1 ...\n",
            "reinstalling: lzo-2.10-h49e0be7_2 ...\n",
            "reinstalling: mkl-2019.0-118 ...\n",
            "reinstalling: ncurses-6.1-hf484d3e_0 ...\n",
            "reinstalling: openssl-1.0.2p-h14c3975_0 ...\n",
            "reinstalling: patchelf-0.9-hf484d3e_2 ...\n",
            "reinstalling: pcre-8.42-h439df22_0 ...\n",
            "reinstalling: pixman-0.34.0-hceecf20_3 ...\n",
            "reinstalling: snappy-1.1.7-hbae5bb6_3 ...\n",
            "reinstalling: xz-5.2.4-h14c3975_4 ...\n",
            "reinstalling: yaml-0.1.7-had09818_2 ...\n",
            "reinstalling: zlib-1.2.11-ha838bed_2 ...\n",
            "reinstalling: blosc-1.14.4-hdbcaa40_0 ...\n",
            "reinstalling: glib-2.56.2-hd408876_0 ...\n",
            "reinstalling: hdf5-1.10.2-hba1933b_1 ...\n",
            "reinstalling: libedit-3.1.20170329-h6b74fdf_2 ...\n",
            "reinstalling: libpng-1.6.34-hb9fc6fc_0 ...\n",
            "reinstalling: libssh2-1.8.0-h9cfc8f7_4 ...\n",
            "reinstalling: libtiff-4.0.9-he85c1e1_2 ...\n",
            "reinstalling: libxml2-2.9.8-h26e45fe_1 ...\n",
            "reinstalling: mpfr-4.0.1-hdf1c602_3 ...\n",
            "reinstalling: pandoc-1.19.2.1-hea2e7c5_1 ...\n",
            "reinstalling: readline-7.0-h7b6447c_5 ...\n",
            "reinstalling: tk-8.6.8-hbc83047_0 ...\n",
            "reinstalling: zeromq-4.2.5-hf484d3e_1 ...\n",
            "reinstalling: dbus-1.13.2-h714fa37_1 ...\n",
            "reinstalling: freetype-2.9.1-h8a8886c_1 ...\n",
            "reinstalling: gstreamer-1.14.0-hb453b48_1 ...\n",
            "reinstalling: libcurl-7.61.0-h1ad7b7a_0 ...\n",
            "reinstalling: libxslt-1.1.32-h1312cb7_0 ...\n",
            "reinstalling: mpc-1.1.0-h10f8cd9_1 ...\n",
            "reinstalling: sqlite-3.24.0-h84994c4_0 ...\n",
            "reinstalling: unixodbc-2.3.7-h14c3975_0 ...\n",
            "reinstalling: curl-7.61.0-h84994c4_0 ...\n",
            "reinstalling: fontconfig-2.13.0-h9420a91_0 ...\n",
            "reinstalling: gst-plugins-base-1.14.0-hbbd80ab_1 ...\n",
            "reinstalling: alabaster-0.7.11-py37_0 ...\n",
            "reinstalling: appdirs-1.4.3-py37h28b3542_0 ...\n",
            "reinstalling: asn1crypto-0.24.0-py37_0 ...\n",
            "reinstalling: atomicwrites-1.2.1-py37_0 ...\n",
            "reinstalling: attrs-18.2.0-py37h28b3542_0 ...\n",
            "reinstalling: backcall-0.1.0-py37_0 ...\n",
            "reinstalling: backports-1.0-py37_1 ...\n",
            "reinstalling: beautifulsoup4-4.6.3-py37_0 ...\n",
            "reinstalling: bitarray-0.8.3-py37h14c3975_0 ...\n",
            "reinstalling: boto-2.49.0-py37_0 ...\n",
            "reinstalling: cairo-1.14.12-h8948797_3 ...\n",
            "reinstalling: certifi-2018.8.24-py37_1 ...\n",
            "reinstalling: chardet-3.0.4-py37_1 ...\n",
            "reinstalling: click-6.7-py37_0 ...\n",
            "reinstalling: cloudpickle-0.5.5-py37_0 ...\n",
            "reinstalling: colorama-0.3.9-py37_0 ...\n",
            "reinstalling: constantly-15.1.0-py37h28b3542_0 ...\n",
            "reinstalling: contextlib2-0.5.5-py37_0 ...\n",
            "reinstalling: dask-core-0.19.1-py37_0 ...\n",
            "reinstalling: decorator-4.3.0-py37_0 ...\n",
            "reinstalling: defusedxml-0.5.0-py37_1 ...\n",
            "reinstalling: docutils-0.14-py37_0 ...\n",
            "reinstalling: entrypoints-0.2.3-py37_2 ...\n",
            "reinstalling: et_xmlfile-1.0.1-py37_0 ...\n",
            "reinstalling: fastcache-1.0.2-py37h14c3975_2 ...\n",
            "reinstalling: filelock-3.0.8-py37_0 ...\n",
            "reinstalling: glob2-0.6-py37_0 ...\n",
            "reinstalling: gmpy2-2.0.8-py37h10f8cd9_2 ...\n",
            "reinstalling: greenlet-0.4.15-py37h7b6447c_0 ...\n",
            "reinstalling: heapdict-1.0.0-py37_2 ...\n",
            "reinstalling: idna-2.7-py37_0 ...\n",
            "reinstalling: imagesize-1.1.0-py37_0 ...\n",
            "reinstalling: incremental-17.5.0-py37_0 ...\n",
            "reinstalling: ipython_genutils-0.2.0-py37_0 ...\n",
            "reinstalling: itsdangerous-0.24-py37_1 ...\n",
            "reinstalling: jdcal-1.4-py37_0 ...\n",
            "reinstalling: jeepney-0.3.1-py37_0 ...\n",
            "reinstalling: kiwisolver-1.0.1-py37hf484d3e_0 ...\n",
            "reinstalling: lazy-object-proxy-1.3.1-py37h14c3975_2 ...\n",
            "reinstalling: llvmlite-0.24.0-py37hdbcaa40_0 ...\n",
            "reinstalling: locket-0.2.0-py37_1 ...\n",
            "reinstalling: lxml-4.2.5-py37hefd8a0e_0 ...\n",
            "reinstalling: markupsafe-1.0-py37h14c3975_1 ...\n",
            "reinstalling: mccabe-0.6.1-py37_1 ...\n",
            "reinstalling: mistune-0.8.3-py37h14c3975_1 ...\n",
            "reinstalling: mkl-service-1.1.2-py37h90e4bf4_5 ...\n",
            "reinstalling: mpmath-1.0.0-py37_2 ...\n",
            "reinstalling: msgpack-python-0.5.6-py37h6bb024c_1 ...\n",
            "reinstalling: numpy-base-1.15.1-py37h81de0dd_0 ...\n",
            "reinstalling: olefile-0.46-py37_0 ...\n",
            "reinstalling: pandocfilters-1.4.2-py37_1 ...\n",
            "reinstalling: parso-0.3.1-py37_0 ...\n",
            "reinstalling: path.py-11.1.0-py37_0 ...\n",
            "reinstalling: pep8-1.7.1-py37_0 ...\n",
            "reinstalling: pickleshare-0.7.4-py37_0 ...\n",
            "reinstalling: pkginfo-1.4.2-py37_1 ...\n",
            "reinstalling: pluggy-0.7.1-py37h28b3542_0 ...\n",
            "reinstalling: ply-3.11-py37_0 ...\n",
            "reinstalling: psutil-5.4.7-py37h14c3975_0 ...\n",
            "reinstalling: ptyprocess-0.6.0-py37_0 ...\n",
            "reinstalling: py-1.6.0-py37_0 ...\n",
            "reinstalling: pyasn1-0.4.4-py37h28b3542_0 ...\n",
            "reinstalling: pycodestyle-2.4.0-py37_0 ...\n",
            "reinstalling: pycosat-0.6.3-py37h14c3975_0 ...\n",
            "reinstalling: pycparser-2.18-py37_1 ...\n",
            "reinstalling: pycrypto-2.6.1-py37h14c3975_9 ...\n",
            "reinstalling: pycurl-7.43.0.2-py37hb7f436b_0 ...\n",
            "reinstalling: pyflakes-2.0.0-py37_0 ...\n",
            "reinstalling: pyodbc-4.0.24-py37he6710b0_0 ...\n",
            "reinstalling: pyparsing-2.2.0-py37_1 ...\n",
            "reinstalling: pysocks-1.6.8-py37_0 ...\n",
            "reinstalling: pytz-2018.5-py37_0 ...\n",
            "reinstalling: pyyaml-3.13-py37h14c3975_0 ...\n",
            "reinstalling: pyzmq-17.1.2-py37h14c3975_0 ...\n",
            "reinstalling: qt-5.9.6-h8703b6f_2 ...\n",
            "reinstalling: qtpy-1.5.0-py37_0 ...\n",
            "reinstalling: rope-0.11.0-py37_0 ...\n",
            "reinstalling: ruamel_yaml-0.15.46-py37h14c3975_0 ...\n",
            "reinstalling: send2trash-1.5.0-py37_0 ...\n",
            "reinstalling: simplegeneric-0.8.1-py37_2 ...\n",
            "reinstalling: sip-4.19.8-py37hf484d3e_0 ...\n",
            "reinstalling: six-1.11.0-py37_1 ...\n",
            "reinstalling: snowballstemmer-1.2.1-py37_0 ...\n",
            "reinstalling: sortedcontainers-2.0.5-py37_0 ...\n",
            "reinstalling: sphinxcontrib-1.0-py37_1 ...\n",
            "reinstalling: sqlalchemy-1.2.11-py37h7b6447c_0 ...\n",
            "reinstalling: tblib-1.3.2-py37_0 ...\n",
            "reinstalling: testpath-0.3.1-py37_0 ...\n",
            "reinstalling: toolz-0.9.0-py37_0 ...\n",
            "reinstalling: tornado-5.1-py37h14c3975_0 ...\n",
            "reinstalling: tqdm-4.26.0-py37h28b3542_0 ...\n",
            "reinstalling: unicodecsv-0.14.1-py37_0 ...\n",
            "reinstalling: wcwidth-0.1.7-py37_0 ...\n",
            "reinstalling: webencodings-0.5.1-py37_1 ...\n",
            "reinstalling: werkzeug-0.14.1-py37_0 ...\n",
            "reinstalling: wrapt-1.10.11-py37h14c3975_2 ...\n",
            "reinstalling: xlrd-1.1.0-py37_1 ...\n",
            "reinstalling: xlsxwriter-1.1.0-py37_0 ...\n",
            "reinstalling: xlwt-1.3.0-py37_0 ...\n",
            "reinstalling: zope-1.0-py37_1 ...\n",
            "reinstalling: astroid-2.0.4-py37_0 ...\n",
            "reinstalling: automat-0.7.0-py37_0 ...\n",
            "reinstalling: babel-2.6.0-py37_0 ...\n",
            "reinstalling: backports.shutil_get_terminal_size-1.0.0-py37_2 ...\n",
            "reinstalling: cffi-1.11.5-py37he75722e_1 ...\n",
            "reinstalling: cycler-0.10.0-py37_0 ...\n",
            "reinstalling: cytoolz-0.9.0.1-py37h14c3975_1 ...\n",
            "reinstalling: harfbuzz-1.8.8-hffaf4a1_0 ...\n",
            "reinstalling: html5lib-1.0.1-py37_0 ...\n",
            "reinstalling: hyperlink-18.0.0-py37_0 ...\n",
            "reinstalling: jedi-0.12.1-py37_0 ...\n",
            "reinstalling: more-itertools-4.3.0-py37_0 ...\n",
            "reinstalling: multipledispatch-0.6.0-py37_0 ...\n",
            "reinstalling: networkx-2.1-py37_0 ...\n",
            "reinstalling: nltk-3.3.0-py37_0 ...\n",
            "reinstalling: openpyxl-2.5.6-py37_0 ...\n",
            "reinstalling: packaging-17.1-py37_0 ...\n",
            "reinstalling: partd-0.3.8-py37_0 ...\n",
            "reinstalling: pathlib2-2.3.2-py37_0 ...\n",
            "reinstalling: pexpect-4.6.0-py37_0 ...\n",
            "reinstalling: pillow-5.2.0-py37heded4f4_0 ...\n",
            "reinstalling: pyasn1-modules-0.2.2-py37_0 ...\n",
            "reinstalling: pyqt-5.9.2-py37h05f1152_2 ...\n",
            "reinstalling: python-dateutil-2.7.3-py37_0 ...\n",
            "reinstalling: qtawesome-0.4.4-py37_0 ...\n",
            "reinstalling: setuptools-40.2.0-py37_0 ...\n",
            "reinstalling: singledispatch-3.4.0.3-py37_0 ...\n",
            "reinstalling: sortedcollections-1.0.1-py37_0 ...\n",
            "reinstalling: sphinxcontrib-websupport-1.1.0-py37_1 ...\n",
            "reinstalling: sympy-1.2-py37_0 ...\n",
            "reinstalling: terminado-0.8.1-py37_1 ...\n",
            "reinstalling: traitlets-4.3.2-py37_0 ...\n",
            "reinstalling: zict-0.1.3-py37_0 ...\n",
            "reinstalling: zope.interface-4.5.0-py37h14c3975_0 ...\n",
            "reinstalling: bleach-2.1.4-py37_0 ...\n",
            "reinstalling: clyent-1.2.2-py37_1 ...\n",
            "reinstalling: cryptography-2.3.1-py37hc365091_0 ...\n",
            "reinstalling: cython-0.28.5-py37hf484d3e_0 ...\n",
            "reinstalling: distributed-1.23.1-py37_0 ...\n",
            "reinstalling: get_terminal_size-1.0.0-haa9412d_0 ...\n",
            "reinstalling: gevent-1.3.6-py37h7b6447c_0 ...\n",
            "reinstalling: isort-4.3.4-py37_0 ...\n",
            "reinstalling: jinja2-2.10-py37_0 ...\n",
            "reinstalling: jsonschema-2.6.0-py37_0 ...\n",
            "reinstalling: jupyter_core-4.4.0-py37_0 ...\n",
            "reinstalling: navigator-updater-0.2.1-py37_0 ...\n",
            "reinstalling: nose-1.3.7-py37_2 ...\n",
            "reinstalling: pango-1.42.4-h049681c_0 ...\n",
            "reinstalling: pygments-2.2.0-py37_0 ...\n",
            "reinstalling: pytest-3.8.0-py37_0 ...\n",
            "reinstalling: wheel-0.31.1-py37_0 ...\n",
            "reinstalling: flask-1.0.2-py37_1 ...\n",
            "reinstalling: jupyter_client-5.2.3-py37_0 ...\n",
            "reinstalling: nbformat-4.4.0-py37_0 ...\n",
            "reinstalling: pip-10.0.1-py37_0 ...\n",
            "reinstalling: prompt_toolkit-1.0.15-py37_0 ...\n",
            "reinstalling: pylint-2.1.1-py37_0 ...\n",
            "reinstalling: pyopenssl-18.0.0-py37_0 ...\n",
            "reinstalling: pytest-openfiles-0.3.0-py37_0 ...\n",
            "reinstalling: pytest-remotedata-0.3.0-py37_0 ...\n",
            "reinstalling: secretstorage-3.1.0-py37_0 ...\n",
            "reinstalling: flask-cors-3.0.6-py37_0 ...\n",
            "reinstalling: ipython-6.5.0-py37_0 ...\n",
            "reinstalling: keyring-13.2.1-py37_0 ...\n",
            "reinstalling: nbconvert-5.4.0-py37_1 ...\n",
            "reinstalling: service_identity-17.0.0-py37h28b3542_0 ...\n",
            "reinstalling: urllib3-1.23-py37_0 ...\n",
            "reinstalling: ipykernel-4.9.0-py37_1 ...\n",
            "reinstalling: requests-2.19.1-py37_0 ...\n",
            "reinstalling: twisted-18.7.0-py37h14c3975_1 ...\n",
            "reinstalling: anaconda-client-1.7.2-py37_0 ...\n",
            "reinstalling: jupyter_console-5.2.0-py37_1 ...\n",
            "reinstalling: prometheus_client-0.3.1-py37h28b3542_0 ...\n",
            "reinstalling: qtconsole-4.4.1-py37_0 ...\n",
            "reinstalling: sphinx-1.7.9-py37_0 ...\n",
            "reinstalling: spyder-kernels-0.2.6-py37_0 ...\n",
            "reinstalling: anaconda-navigator-1.9.2-py37_0 ...\n",
            "reinstalling: anaconda-project-0.8.2-py37_0 ...\n",
            "reinstalling: notebook-5.6.0-py37_0 ...\n",
            "reinstalling: numpydoc-0.8.0-py37_0 ...\n",
            "reinstalling: jupyterlab_launcher-0.13.1-py37_0 ...\n",
            "reinstalling: spyder-3.3.1-py37_1 ...\n",
            "reinstalling: widgetsnbextension-3.4.1-py37_0 ...\n",
            "reinstalling: ipywidgets-7.4.1-py37_0 ...\n",
            "reinstalling: jupyterlab-0.34.9-py37_0 ...\n",
            "reinstalling: _ipyw_jlab_nb_ext_conf-0.1.0-py37_0 ...\n",
            "reinstalling: jupyter-1.0.0-py37_7 ...\n",
            "reinstalling: bokeh-0.13.0-py37_0 ...\n",
            "reinstalling: bottleneck-1.2.1-py37h035aef0_1 ...\n",
            "reinstalling: conda-4.5.11-py37_0 ...\n",
            "reinstalling: conda-build-3.15.1-py37_0 ...\n",
            "reinstalling: datashape-0.5.4-py37_1 ...\n",
            "reinstalling: h5py-2.8.0-py37h989c5e5_3 ...\n",
            "reinstalling: imageio-2.4.1-py37_0 ...\n",
            "reinstalling: matplotlib-2.2.3-py37hb69df0a_0 ...\n",
            "reinstalling: mkl_fft-1.0.4-py37h4414c95_1 ...\n",
            "reinstalling: mkl_random-1.0.1-py37h4414c95_1 ...\n",
            "reinstalling: numpy-1.15.1-py37h1d66e8a_0 ...\n",
            "reinstalling: numba-0.39.0-py37h04863e7_0 ...\n",
            "reinstalling: numexpr-2.6.8-py37hd89afb7_0 ...\n",
            "reinstalling: pandas-0.23.4-py37h04863e7_0 ...\n",
            "reinstalling: pytest-arraydiff-0.2-py37h39e3cac_0 ...\n",
            "reinstalling: pytest-doctestplus-0.1.3-py37_0 ...\n",
            "reinstalling: pywavelets-1.0.0-py37hdd07704_0 ...\n",
            "reinstalling: scipy-1.1.0-py37hfa4b5c9_1 ...\n",
            "reinstalling: bkcharts-0.2-py37_0 ...\n",
            "reinstalling: dask-0.19.1-py37_0 ...\n",
            "reinstalling: patsy-0.5.0-py37_0 ...\n",
            "reinstalling: pytables-3.4.4-py37ha205bf6_0 ...\n",
            "reinstalling: pytest-astropy-0.4.0-py37_0 ...\n",
            "reinstalling: scikit-image-0.14.0-py37hf484d3e_1 ...\n",
            "reinstalling: scikit-learn-0.19.2-py37h4989274_0 ...\n",
            "reinstalling: astropy-3.0.4-py37h14c3975_0 ...\n",
            "reinstalling: odo-0.5.1-py37_0 ...\n",
            "reinstalling: statsmodels-0.9.0-py37h035aef0_0 ...\n",
            "reinstalling: blaze-0.11.3-py37_0 ...\n",
            "reinstalling: seaborn-0.9.0-py37_0 ...\n",
            "reinstalling: anaconda-5.3.1-py37_0 ...\n",
            "installation finished.\n"
          ],
          "name": "stdout"
        }
      ]
    },
    {
      "cell_type": "code",
      "metadata": {
        "colab": {
          "base_uri": "https://localhost:8080/"
        },
        "id": "OvJ3CD6m044V",
        "outputId": "8bb98e16-ed17-4c1b-804e-bd4c7a20331c"
      },
      "source": [
        "!conda create -n FairMOT"
      ],
      "execution_count": null,
      "outputs": [
        {
          "output_type": "stream",
          "text": [
            "Solving environment: - \b\bdone\n",
            "\n",
            "\n",
            "==> WARNING: A newer version of conda exists. <==\n",
            "  current version: 4.5.11\n",
            "  latest version: 4.10.3\n",
            "\n",
            "Please update conda by running\n",
            "\n",
            "    $ conda update -n base -c defaults conda\n",
            "\n",
            "\n",
            "\n",
            "## Package Plan ##\n",
            "\n",
            "  environment location: /usr/local/envs/FairMOT\n",
            "\n",
            "\n",
            "Proceed ([y]/n)? y\n",
            "\n",
            "Preparing transaction: | \b\bdone\n",
            "Verifying transaction: - \b\bdone\n",
            "Executing transaction: | \b\bdone\n",
            "#\n",
            "# To activate this environment, use:\n",
            "# > source activate FairMOT\n",
            "#\n",
            "# To deactivate an active environment, use:\n",
            "# > source deactivate\n",
            "#\n",
            "\n"
          ],
          "name": "stdout"
        }
      ]
    },
    {
      "cell_type": "code",
      "metadata": {
        "id": "0ek2POpdiXvB"
      },
      "source": [
        "!source activate FairMOT"
      ],
      "execution_count": null,
      "outputs": []
    },
    {
      "cell_type": "code",
      "metadata": {
        "id": "Dl1_StCeiZCS"
      },
      "source": [
        "# conda 4.5.11 this worked\n",
        "!conda install -c anaconda python=3.7 #-y\n",
        "!conda install pytorch==1.2.0 torchvision==0.4.0 cudatoolkit=10.0 -c pytorch #-y"
      ],
      "execution_count": null,
      "outputs": []
    },
    {
      "cell_type": "markdown",
      "metadata": {
        "id": "NQOQ0CLaFVuR"
      },
      "source": [
        "## install dependencies"
      ]
    },
    {
      "cell_type": "code",
      "metadata": {
        "id": "5E6GtgBokOmL"
      },
      "source": [
        "# !git clone https://github.com/ifzhang/FairMOT"
      ],
      "execution_count": null,
      "outputs": []
    },
    {
      "cell_type": "code",
      "metadata": {
        "colab": {
          "base_uri": "https://localhost:8080/"
        },
        "id": "iWYgq0R5kTN0",
        "outputId": "2f3c6d6c-8f2f-4898-8e66-f0e8596c1cd2"
      },
      "source": [
        "import os\n",
        "os.chdir(\"/content/drive/MyDrive/graduation_project/FairMOT\")"
      ],
      "execution_count": null,
      "outputs": [
        {
          "output_type": "stream",
          "text": [
            "assets\tDCNv2  experiments  MCMOT   README.md\t      src\n",
            "build\tdemos  LICENSE\t    models  requirements.txt  videos\n"
          ],
          "name": "stdout"
        }
      ]
    },
    {
      "cell_type": "markdown",
      "metadata": {
        "id": "fIEkUvkGFhPk"
      },
      "source": [
        "### Install cython on its own"
      ]
    },
    {
      "cell_type": "code",
      "metadata": {
        "colab": {
          "base_uri": "https://localhost:8080/"
        },
        "id": "y3GJZOcikem_",
        "outputId": "49867da9-265a-404d-cc51-3f37f421c1af"
      },
      "source": [
        "%%file requirements.txt\n",
        "yacs\n",
        "opencv-python\n",
        "cython\n",
        "scipy\n",
        "numba\n",
        "progress\n",
        "motmetrics\n",
        "matplotlib\n",
        "lap\n",
        "openpyxl\n",
        "Pillow\n",
        "tensorboardX\n"
      ],
      "execution_count": null,
      "outputs": [
        {
          "output_type": "stream",
          "text": [
            "Overwriting requirements.txt\n"
          ],
          "name": "stdout"
        }
      ]
    },
    {
      "cell_type": "code",
      "metadata": {
        "id": "74xYVVoakntt"
      },
      "source": [
        "!pip install -r requirements.txt"
      ],
      "execution_count": null,
      "outputs": []
    },
    {
      "cell_type": "code",
      "metadata": {
        "colab": {
          "base_uri": "https://localhost:8080/"
        },
        "id": "1s4cKwrjkviz",
        "outputId": "c1aea690-5ee5-4f49-e8ba-f55305aa5ed7"
      },
      "source": [
        "%%file requirements.txt\n",
        "yacs\n",
        "opencv-python\n",
        "cython\n",
        "scipy\n",
        "numba\n",
        "progress\n",
        "motmetrics\n",
        "matplotlib\n",
        "lap\n",
        "openpyxl\n",
        "Pillow\n",
        "tensorboardX\n",
        "cython-bbox"
      ],
      "execution_count": null,
      "outputs": [
        {
          "output_type": "stream",
          "text": [
            "Overwriting requirements.txt\n"
          ],
          "name": "stdout"
        }
      ]
    },
    {
      "cell_type": "code",
      "metadata": {
        "id": "ZEmHAjEvk59f"
      },
      "source": [
        "!pip install -r requirements.txt"
      ],
      "execution_count": null,
      "outputs": []
    },
    {
      "cell_type": "markdown",
      "metadata": {
        "id": "-gKW-mY2Fl_l"
      },
      "source": [
        "### Setup DCNv2"
      ]
    },
    {
      "cell_type": "code",
      "metadata": {
        "id": "-W8Rt7Vhk_X1"
      },
      "source": [
        "# !git clone https://github.com/CharlesShang/DCNv2\n"
      ],
      "execution_count": null,
      "outputs": []
    },
    {
      "cell_type": "code",
      "metadata": {
        "colab": {
          "base_uri": "https://localhost:8080/"
        },
        "id": "-avL1EPjlCw_",
        "outputId": "ac912e6f-21ff-4efe-de8d-94a1d8332185"
      },
      "source": [
        "os.chdir(\"DCNv2\")\n",
        "!ls"
      ],
      "execution_count": null,
      "outputs": [
        {
          "output_type": "stream",
          "text": [
            "build\t\t\t\t      __init__.py  README.md   testcuda.py\n",
            "DCNv2.egg-info\t\t\t      LICENSE\t   setup.py\n",
            "dcn_v2.py\t\t\t      make.sh\t   src\n",
            "_ext.cpython-37m-x86_64-linux-gnu.so  __pycache__  testcpu.py\n"
          ],
          "name": "stdout"
        }
      ]
    },
    {
      "cell_type": "code",
      "metadata": {
        "colab": {
          "base_uri": "https://localhost:8080/"
        },
        "id": "Cu7IWRSzlLZZ",
        "outputId": "04271dca-dbe9-42ef-ecd0-354aacb1fdd5"
      },
      "source": [
        "!chmod +x make.sh\n",
        "!./make.sh"
      ],
      "execution_count": null,
      "outputs": [
        {
          "output_type": "stream",
          "text": [
            "running build\n",
            "running build_ext\n",
            "running develop\n",
            "running egg_info\n",
            "writing DCNv2.egg-info/PKG-INFO\n",
            "writing dependency_links to DCNv2.egg-info/dependency_links.txt\n",
            "writing top-level names to DCNv2.egg-info/top_level.txt\n",
            "reading manifest file 'DCNv2.egg-info/SOURCES.txt'\n",
            "writing manifest file 'DCNv2.egg-info/SOURCES.txt'\n",
            "running build_ext\n",
            "copying build/lib.linux-x86_64-3.7/_ext.cpython-37m-x86_64-linux-gnu.so -> \n",
            "Creating /usr/local/lib/python3.7/site-packages/DCNv2.egg-link (link to .)\n",
            "Adding DCNv2 0.1 to easy-install.pth file\n",
            "\n",
            "Installed /content/drive/My Drive/graduation_project/FairMOT/DCNv2\n",
            "Processing dependencies for DCNv2==0.1\n",
            "Finished processing dependencies for DCNv2==0.1\n"
          ],
          "name": "stdout"
        }
      ]
    },
    {
      "cell_type": "code",
      "metadata": {
        "id": "BgWSwRgTskE_"
      },
      "source": [
        "# os.chdir(\"/content/drive/MyDrive/graduation_project/FairMOT\")"
      ],
      "execution_count": null,
      "outputs": []
    },
    {
      "cell_type": "code",
      "metadata": {
        "id": "kBbWp8kf3SRb"
      },
      "source": [
        "# !git clone https://github.com/CaptainEven/MCMOT"
      ],
      "execution_count": null,
      "outputs": []
    },
    {
      "cell_type": "code",
      "metadata": {
        "id": "5cOdVgAv3dJ6"
      },
      "source": [
        "os.chdir(\"/content/drive/MyDrive/graduation_project/FairMOT/MCMOT\")"
      ],
      "execution_count": null,
      "outputs": []
    },
    {
      "cell_type": "code",
      "metadata": {
        "colab": {
          "base_uri": "https://localhost:8080/"
        },
        "id": "n3rz94eA3994",
        "outputId": "687c945e-5ab6-47a5-9e56-600e74f0d10f"
      },
      "source": [
        "!ls"
      ],
      "execution_count": null,
      "outputs": [
        {
          "output_type": "stream",
          "text": [
            "cp_seqinfo_to_MOT15.py\t\t      test20_track.gif\n",
            "data\t\t\t\t      test25_track.gif\n",
            "DATASET_DOWNLOAD_SCRIPT\t\t      test27_track.gif\n",
            "demo.gif\t\t\t      test28_track.gif\n",
            "experiments\t\t\t      test2_track.gif\n",
            "LICENSE\t\t\t\t      visdrone_31_track.gif\n",
            "mcmot_last_track_hrnet_18_deconv.pth  visdrone_train15_track.gif\n",
            "model_down_script.sh\t\t      visdrone_train17_track.gif\n",
            "models\t\t\t\t      visdrone_train22_track.gif\n",
            "MOT15_dataset_down.sh\t\t      visdrone_train23_track.gif\n",
            "README.md\t\t\t      visdrone_train39_track.gif\n",
            "results\t\t\t\t      visdrone_train5_track.gif\n",
            "src\n"
          ],
          "name": "stdout"
        }
      ]
    },
    {
      "cell_type": "code",
      "metadata": {
        "id": "UpVU00bx3-mS"
      },
      "source": [
        "# !mkdir models"
      ],
      "execution_count": null,
      "outputs": []
    },
    {
      "cell_type": "code",
      "metadata": {
        "id": "yQm94Wbn6J7Y"
      },
      "source": [
        "# os.chdir(\"models\")"
      ],
      "execution_count": null,
      "outputs": []
    },
    {
      "cell_type": "code",
      "metadata": {
        "id": "9Z087zus4Aow"
      },
      "source": [
        "# !wget --header=\"Host: zqblyw.bn.files.1drv.com\" --header=\"User-Agent: Mozilla/5.0 (X11; Linux x86_64) AppleWebKit/537.36 (KHTML, like Gecko) Chrome/88.0.4324.152 Safari/537.36\" --header=\"Accept: text/html,application/xhtml+xml,application/xml;q=0.9,image/avif,image/webp,image/apng,*/*;q=0.8,application/signed-exchange;v=b3;q=0.9\" --header=\"Accept-Language: en-US,en;q=0.9\" --header=\"Referer: https://onedrive.live.com/\" \"https://zqblyw.bn.files.1drv.com/y4muEtFUSevEZMwhmnyX79vN5dbeCDWuGqShPs68xxXQPbhAi_cLlsnG2hR_97jG_jj58ItW3Oi2VTmMrqU_wbiJRSHFfwbcCnHaO5cs1_RqzajIDOsYNszE77_gXQdyhydhMpypGJSbDh0K1mw3im4FRYLZDys52vCid-PXHnBmeoyX53rarIbB5J0FxfMZkd5FKKuKa4hIj1w3eviyYv0sQ\" -c -O 'mcmot_last_track_hrnet_18_deconv.pth'"
      ],
      "execution_count": null,
      "outputs": []
    },
    {
      "cell_type": "code",
      "metadata": {
        "id": "Hz6trYUI5Kxb"
      },
      "source": [
        "os.chdir(\"src\")"
      ],
      "execution_count": null,
      "outputs": []
    },
    {
      "cell_type": "code",
      "metadata": {
        "id": "_yI5_aGil3Hy"
      },
      "source": [
        "# !cat /content/drive/MyDrive/graduation_project/FairMOT/MCMOT/src/lib/tracker/multitracker.py\n",
        "# in multitracker.py uncomment the mcmot_c5 line"
      ],
      "execution_count": null,
      "outputs": []
    },
    {
      "cell_type": "markdown",
      "metadata": {
        "id": "11f35qYPF_Y9"
      },
      "source": [
        "## Install model backbones"
      ]
    },
    {
      "cell_type": "code",
      "metadata": {
        "colab": {
          "base_uri": "https://localhost:8080/"
        },
        "id": "D_DkYg-L5Oyr",
        "outputId": "a64af7a6-d17d-40c5-8a68-b12a3f9316a9"
      },
      "source": [
        "%cd /content/drive/MyDrive/graduation_project/FairMOT/MCMOT/models\n",
        "\n",
        "# !wget --header=\"Host: z6ybtq.bn.files.1drv.com\" --header=\"User-Agent: Mozilla/5.0 (X11; Linux x86_64) AppleWebKit/537.36 (KHTML, like Gecko) Chrome/88.0.4324.152 Safari/537.36\" --header=\"Accept: text/html,application/xhtml+xml,application/xml;q=0.9,image/avif,image/webp,image/apng,*/*;q=0.8,application/signed-exchange;v=b3;q=0.9\" --header=\"Accept-Language: en-US,en;q=0.9\" --header=\"Referer: https://onedrive.live.com/\" \"https://z6ybtq.bn.files.1drv.com/y4m3E4RGCcOs14_aaqRa8lZkY1Qm5wWjRANncCPXehn6q2oOcoskpZ3lRp5AeaXl7TBKAZ2tUv6H980gZH75PXIHSE8p_u1dlFgBSI3KDWnmzxXn6Hv022eZvo3cthDOCuH4oWEth_6Zymxfv9Gp70yaFTxDCVL1UcNBx3-_gmzLEhIXRV0fMDj6XQZGGeQcsVl05Rw0xgu0SSTjb7Dke5BtA\" -c -O 'mcmot_last_track_resdcn_18.pth'\n",
        "# !wget --header=\"Host: zqybtq.bn.files.1drv.com\" --header=\"User-Agent: Mozilla/5.0 (X11; Linux x86_64) AppleWebKit/537.36 (KHTML, like Gecko) Chrome/88.0.4324.152 Safari/537.36\" --header=\"Accept: text/html,application/xhtml+xml,application/xml;q=0.9,image/avif,image/webp,image/apng,*/*;q=0.8,application/signed-exchange;v=b3;q=0.9\" --header=\"Accept-Language: en-US,en;q=0.9\" --header=\"Referer: https://onedrive.live.com/\" \"https://zqybtq.bn.files.1drv.com/y4mI6RnB4K_PEk7Wg8XZjrU6Gl8-KTSz2s1HEiUioPqhXrPwnoFLHDrs81TnRNeR_bYDhSQdCboIdv9_0hckYb6so6p4AdPVT4JCD5lYhT6cprxwYZJmkRtGFzfkrX0R0t-5O3B4engZtkw3HQMEMxhHBYR0mEg9PTRebVTnULEmaNvNJpUqwr-7TnKXeDeXw9D7RRjMzJDwCjnJir5CTWvsA\" -c -O 'mcmot_last_track_resdcn_18_visdrone.pth'"
      ],
      "execution_count": null,
      "outputs": [
        {
          "output_type": "stream",
          "text": [
            "/content/drive/MyDrive/graduation_project/FairMOT/MCMOT/models\n"
          ],
          "name": "stdout"
        }
      ]
    },
    {
      "cell_type": "markdown",
      "metadata": {
        "id": "R6gUqm8tsceS"
      },
      "source": [
        "## test"
      ]
    },
    {
      "cell_type": "code",
      "metadata": {
        "id": "CMHeZxzAh3Xo"
      },
      "source": [
        "## Cut part of a video if needed \n",
        "\n",
        "# !ffmpeg ffmpeg -ss 1:30:00  -i /content/drive/MyDrive/fairmot/data/combined_vids/ATC02_24_07_2018_combined.mp4 -t 00:10:00 -c copy /content/drive/MyDrive/fairmot/data/combined_vids/ATC02_24_07_2018_night_10_min_slice.mp4\n",
        "# !ffmpeg -i /content/drive/MyDrive/fairmot/data/combined_vids/ATC02_24_07_2018_combined.mp4 -vcodec copy -acodec copy -ss 01:30:0 -to 01:40:00 /content/drive/MyDrive/fairmot/data/combined_vids/ATC02_24_07_2018_night_10_min_slice.mp4\n"
      ],
      "execution_count": null,
      "outputs": []
    },
    {
      "cell_type": "code",
      "metadata": {
        "colab": {
          "base_uri": "https://localhost:8080/"
        },
        "id": "fzPOakB9o1KN",
        "outputId": "f7f8ed1d-fffa-4dc3-ebe9-5802c3f8b9c2"
      },
      "source": [
        "# run demo.py with res net as \n",
        "\n",
        "%cd /content/drive/MyDrive/graduation_project/FairMOT/MCMOT/src\n",
        "# !python demo.py --load_model ../models/mcmot_last_track_resdcn_18.pth --input-video /content/drive/MyDrive/fairmot/data/combined_vids/TMC04_11_05_2018_40_min_slice.mp4\n",
        "!python demo.py --load_model ../models/mcmot_last_track_resdcn_18.pth --input-video /content/drive/MyDrive/fairmot/data/combined_vids/ATC02_24_07_2018_night_10_min_slice.mp4"
      ],
      "execution_count": null,
      "outputs": [
        {
          "output_type": "stream",
          "text": [
            "/content/drive/MyDrive/graduation_project/FairMOT/MCMOT/src\n",
            "Fix size testing.\n",
            "training chunk_sizes: [10]\n",
            "The output will be saved to  /content/drive/My Drive/graduation_project/FairMOT/MCMOT/src/lib/../../exp/mot/default\n",
            "Net input image size: 1088×608\n",
            "heads:  {'hm': 5, 'wh': 2, 'id': 128, 'reg': 2}\n",
            "filename ::::  content_drive_MyDrive_fairmot_data_combined_vids_ATC02_24_07_2018_night_10_min_slice\n",
            "2021-07-10 11:51:37 [INFO]: Starting tracking...\n",
            "2021-07-10 11:51:37 [INFO]: Starting tracking...\n",
            "Lenth of the video: 5998 frames\n",
            "Using gpu: 0\n",
            "Using CUDA device0 _CudaDeviceProperties(name='Tesla V100-SXM2-16GB', total_memory=16160MB)\n",
            "\n",
            "Creating model...\n",
            "loaded ../models/mcmot_last_track_resdcn_18.pth, epoch 9\n",
            "2021-07-10 11:51:43 [INFO]: Processing frame 30 (45.54 fps)\n",
            "2021-07-10 11:51:43 [INFO]: Processing frame 30 (45.54 fps)\n",
            "2021-07-10 11:51:46 [INFO]: Processing frame 60 (53.72 fps)\n",
            "2021-07-10 11:51:46 [INFO]: Processing frame 60 (53.72 fps)\n",
            "2021-07-10 11:51:49 [INFO]: Processing frame 90 (56.73 fps)\n",
            "2021-07-10 11:51:49 [INFO]: Processing frame 90 (56.73 fps)\n",
            "2021-07-10 11:51:52 [INFO]: Processing frame 120 (57.93 fps)\n",
            "2021-07-10 11:51:52 [INFO]: Processing frame 120 (57.93 fps)\n",
            "2021-07-10 11:51:55 [INFO]: Processing frame 150 (58.70 fps)\n",
            "2021-07-10 11:51:55 [INFO]: Processing frame 150 (58.70 fps)\n",
            "2021-07-10 11:51:58 [INFO]: Processing frame 180 (59.35 fps)\n",
            "2021-07-10 11:51:58 [INFO]: Processing frame 180 (59.35 fps)\n",
            "2021-07-10 11:52:01 [INFO]: Processing frame 210 (59.88 fps)\n",
            "2021-07-10 11:52:01 [INFO]: Processing frame 210 (59.88 fps)\n",
            "2021-07-10 11:52:04 [INFO]: Processing frame 240 (60.55 fps)\n",
            "2021-07-10 11:52:04 [INFO]: Processing frame 240 (60.55 fps)\n",
            "2021-07-10 11:52:07 [INFO]: Processing frame 270 (60.77 fps)\n",
            "2021-07-10 11:52:07 [INFO]: Processing frame 270 (60.77 fps)\n",
            "2021-07-10 11:52:10 [INFO]: Processing frame 300 (60.89 fps)\n",
            "2021-07-10 11:52:10 [INFO]: Processing frame 300 (60.89 fps)\n",
            "2021-07-10 11:52:13 [INFO]: Processing frame 330 (61.04 fps)\n",
            "2021-07-10 11:52:13 [INFO]: Processing frame 330 (61.04 fps)\n",
            "2021-07-10 11:52:16 [INFO]: Processing frame 360 (61.27 fps)\n",
            "2021-07-10 11:52:16 [INFO]: Processing frame 360 (61.27 fps)\n",
            "2021-07-10 11:52:19 [INFO]: Processing frame 390 (61.46 fps)\n",
            "2021-07-10 11:52:19 [INFO]: Processing frame 390 (61.46 fps)\n",
            "2021-07-10 11:52:22 [INFO]: Processing frame 420 (61.66 fps)\n",
            "2021-07-10 11:52:22 [INFO]: Processing frame 420 (61.66 fps)\n",
            "2021-07-10 11:52:25 [INFO]: Processing frame 450 (62.07 fps)\n",
            "2021-07-10 11:52:25 [INFO]: Processing frame 450 (62.07 fps)\n",
            "2021-07-10 11:52:28 [INFO]: Processing frame 480 (62.16 fps)\n",
            "2021-07-10 11:52:28 [INFO]: Processing frame 480 (62.16 fps)\n",
            "2021-07-10 11:52:32 [INFO]: Processing frame 510 (62.07 fps)\n",
            "2021-07-10 11:52:32 [INFO]: Processing frame 510 (62.07 fps)\n",
            "2021-07-10 11:52:35 [INFO]: Processing frame 540 (62.23 fps)\n",
            "2021-07-10 11:52:35 [INFO]: Processing frame 540 (62.23 fps)\n",
            "2021-07-10 11:52:38 [INFO]: Processing frame 570 (62.38 fps)\n",
            "2021-07-10 11:52:38 [INFO]: Processing frame 570 (62.38 fps)\n",
            "2021-07-10 11:52:41 [INFO]: Processing frame 600 (62.55 fps)\n",
            "2021-07-10 11:52:41 [INFO]: Processing frame 600 (62.55 fps)\n",
            "2021-07-10 11:52:44 [INFO]: Processing frame 630 (62.47 fps)\n",
            "2021-07-10 11:52:44 [INFO]: Processing frame 630 (62.47 fps)\n",
            "2021-07-10 11:52:47 [INFO]: Processing frame 660 (62.71 fps)\n",
            "2021-07-10 11:52:47 [INFO]: Processing frame 660 (62.71 fps)\n",
            "2021-07-10 11:52:50 [INFO]: Processing frame 690 (63.09 fps)\n",
            "2021-07-10 11:52:50 [INFO]: Processing frame 690 (63.09 fps)\n",
            "2021-07-10 11:52:53 [INFO]: Processing frame 720 (63.13 fps)\n",
            "2021-07-10 11:52:53 [INFO]: Processing frame 720 (63.13 fps)\n",
            "2021-07-10 11:52:56 [INFO]: Processing frame 750 (63.13 fps)\n",
            "2021-07-10 11:52:56 [INFO]: Processing frame 750 (63.13 fps)\n",
            "2021-07-10 11:52:59 [INFO]: Processing frame 780 (63.26 fps)\n",
            "2021-07-10 11:52:59 [INFO]: Processing frame 780 (63.26 fps)\n",
            "2021-07-10 11:53:02 [INFO]: Processing frame 810 (63.27 fps)\n",
            "2021-07-10 11:53:02 [INFO]: Processing frame 810 (63.27 fps)\n",
            "2021-07-10 11:53:05 [INFO]: Processing frame 840 (63.35 fps)\n",
            "2021-07-10 11:53:05 [INFO]: Processing frame 840 (63.35 fps)\n",
            "2021-07-10 11:53:08 [INFO]: Processing frame 870 (63.26 fps)\n",
            "2021-07-10 11:53:08 [INFO]: Processing frame 870 (63.26 fps)\n",
            "2021-07-10 11:53:11 [INFO]: Processing frame 900 (63.27 fps)\n",
            "2021-07-10 11:53:11 [INFO]: Processing frame 900 (63.27 fps)\n",
            "2021-07-10 11:53:14 [INFO]: Processing frame 930 (63.13 fps)\n",
            "2021-07-10 11:53:14 [INFO]: Processing frame 930 (63.13 fps)\n",
            "2021-07-10 11:53:17 [INFO]: Processing frame 960 (63.12 fps)\n",
            "2021-07-10 11:53:17 [INFO]: Processing frame 960 (63.12 fps)\n",
            "2021-07-10 11:53:20 [INFO]: Processing frame 990 (63.00 fps)\n",
            "2021-07-10 11:53:20 [INFO]: Processing frame 990 (63.00 fps)\n",
            "2021-07-10 11:53:23 [INFO]: Processing frame 1020 (63.11 fps)\n",
            "2021-07-10 11:53:23 [INFO]: Processing frame 1020 (63.11 fps)\n",
            "2021-07-10 11:53:26 [INFO]: Processing frame 1050 (63.11 fps)\n",
            "2021-07-10 11:53:26 [INFO]: Processing frame 1050 (63.11 fps)\n",
            "2021-07-10 11:53:29 [INFO]: Processing frame 1080 (63.27 fps)\n",
            "2021-07-10 11:53:29 [INFO]: Processing frame 1080 (63.27 fps)\n",
            "2021-07-10 11:53:32 [INFO]: Processing frame 1110 (63.48 fps)\n",
            "2021-07-10 11:53:32 [INFO]: Processing frame 1110 (63.48 fps)\n",
            "2021-07-10 11:53:35 [INFO]: Processing frame 1140 (63.57 fps)\n",
            "2021-07-10 11:53:35 [INFO]: Processing frame 1140 (63.57 fps)\n",
            "2021-07-10 11:53:38 [INFO]: Processing frame 1170 (63.53 fps)\n",
            "2021-07-10 11:53:38 [INFO]: Processing frame 1170 (63.53 fps)\n",
            "2021-07-10 11:53:41 [INFO]: Processing frame 1200 (63.48 fps)\n",
            "2021-07-10 11:53:41 [INFO]: Processing frame 1200 (63.48 fps)\n",
            "2021-07-10 11:53:45 [INFO]: Processing frame 1230 (63.53 fps)\n",
            "2021-07-10 11:53:45 [INFO]: Processing frame 1230 (63.53 fps)\n",
            "2021-07-10 11:53:48 [INFO]: Processing frame 1260 (63.56 fps)\n",
            "2021-07-10 11:53:48 [INFO]: Processing frame 1260 (63.56 fps)\n",
            "2021-07-10 11:53:51 [INFO]: Processing frame 1290 (63.52 fps)\n",
            "2021-07-10 11:53:51 [INFO]: Processing frame 1290 (63.52 fps)\n",
            "2021-07-10 11:53:54 [INFO]: Processing frame 1320 (63.52 fps)\n",
            "2021-07-10 11:53:54 [INFO]: Processing frame 1320 (63.52 fps)\n",
            "2021-07-10 11:53:57 [INFO]: Processing frame 1350 (63.57 fps)\n",
            "2021-07-10 11:53:57 [INFO]: Processing frame 1350 (63.57 fps)\n",
            "2021-07-10 11:54:00 [INFO]: Processing frame 1380 (63.62 fps)\n",
            "2021-07-10 11:54:00 [INFO]: Processing frame 1380 (63.62 fps)\n",
            "2021-07-10 11:54:03 [INFO]: Processing frame 1410 (63.62 fps)\n",
            "2021-07-10 11:54:03 [INFO]: Processing frame 1410 (63.62 fps)\n",
            "2021-07-10 11:54:06 [INFO]: Processing frame 1440 (63.65 fps)\n",
            "2021-07-10 11:54:06 [INFO]: Processing frame 1440 (63.65 fps)\n",
            "2021-07-10 11:54:09 [INFO]: Processing frame 1470 (63.62 fps)\n",
            "2021-07-10 11:54:09 [INFO]: Processing frame 1470 (63.62 fps)\n",
            "2021-07-10 11:54:12 [INFO]: Processing frame 1500 (63.60 fps)\n",
            "2021-07-10 11:54:12 [INFO]: Processing frame 1500 (63.60 fps)\n",
            "2021-07-10 11:54:15 [INFO]: Processing frame 1530 (63.62 fps)\n",
            "2021-07-10 11:54:15 [INFO]: Processing frame 1530 (63.62 fps)\n",
            "2021-07-10 11:54:18 [INFO]: Processing frame 1560 (63.66 fps)\n",
            "2021-07-10 11:54:18 [INFO]: Processing frame 1560 (63.66 fps)\n",
            "2021-07-10 11:54:22 [INFO]: Processing frame 1590 (63.66 fps)\n",
            "2021-07-10 11:54:22 [INFO]: Processing frame 1590 (63.66 fps)\n",
            "2021-07-10 11:54:25 [INFO]: Processing frame 1620 (63.60 fps)\n",
            "2021-07-10 11:54:25 [INFO]: Processing frame 1620 (63.60 fps)\n",
            "2021-07-10 11:54:28 [INFO]: Processing frame 1650 (63.55 fps)\n",
            "2021-07-10 11:54:28 [INFO]: Processing frame 1650 (63.55 fps)\n",
            "2021-07-10 11:54:31 [INFO]: Processing frame 1680 (63.49 fps)\n",
            "2021-07-10 11:54:31 [INFO]: Processing frame 1680 (63.49 fps)\n",
            "2021-07-10 11:54:34 [INFO]: Processing frame 1710 (63.42 fps)\n",
            "2021-07-10 11:54:34 [INFO]: Processing frame 1710 (63.42 fps)\n",
            "2021-07-10 11:54:37 [INFO]: Processing frame 1740 (63.45 fps)\n",
            "2021-07-10 11:54:37 [INFO]: Processing frame 1740 (63.45 fps)\n",
            "2021-07-10 11:54:40 [INFO]: Processing frame 1770 (63.54 fps)\n",
            "2021-07-10 11:54:40 [INFO]: Processing frame 1770 (63.54 fps)\n",
            "2021-07-10 11:54:44 [INFO]: Processing frame 1800 (63.66 fps)\n",
            "2021-07-10 11:54:44 [INFO]: Processing frame 1800 (63.66 fps)\n",
            "2021-07-10 11:54:47 [INFO]: Processing frame 1830 (63.73 fps)\n",
            "2021-07-10 11:54:47 [INFO]: Processing frame 1830 (63.73 fps)\n",
            "2021-07-10 11:54:50 [INFO]: Processing frame 1860 (63.71 fps)\n",
            "2021-07-10 11:54:50 [INFO]: Processing frame 1860 (63.71 fps)\n",
            "2021-07-10 11:54:53 [INFO]: Processing frame 1890 (63.77 fps)\n",
            "2021-07-10 11:54:53 [INFO]: Processing frame 1890 (63.77 fps)\n",
            "2021-07-10 11:54:56 [INFO]: Processing frame 1920 (63.82 fps)\n",
            "2021-07-10 11:54:56 [INFO]: Processing frame 1920 (63.82 fps)\n",
            "2021-07-10 11:54:59 [INFO]: Processing frame 1950 (63.87 fps)\n",
            "2021-07-10 11:54:59 [INFO]: Processing frame 1950 (63.87 fps)\n",
            "2021-07-10 11:55:02 [INFO]: Processing frame 1980 (63.95 fps)\n",
            "2021-07-10 11:55:02 [INFO]: Processing frame 1980 (63.95 fps)\n",
            "2021-07-10 11:55:05 [INFO]: Processing frame 2010 (63.98 fps)\n",
            "2021-07-10 11:55:05 [INFO]: Processing frame 2010 (63.98 fps)\n",
            "2021-07-10 11:55:08 [INFO]: Processing frame 2040 (64.03 fps)\n",
            "2021-07-10 11:55:08 [INFO]: Processing frame 2040 (64.03 fps)\n",
            "2021-07-10 11:55:11 [INFO]: Processing frame 2070 (64.07 fps)\n",
            "2021-07-10 11:55:11 [INFO]: Processing frame 2070 (64.07 fps)\n",
            "2021-07-10 11:55:14 [INFO]: Processing frame 2100 (64.15 fps)\n",
            "2021-07-10 11:55:14 [INFO]: Processing frame 2100 (64.15 fps)\n",
            "2021-07-10 11:55:17 [INFO]: Processing frame 2130 (64.24 fps)\n",
            "2021-07-10 11:55:17 [INFO]: Processing frame 2130 (64.24 fps)\n",
            "2021-07-10 11:55:20 [INFO]: Processing frame 2160 (64.35 fps)\n",
            "2021-07-10 11:55:20 [INFO]: Processing frame 2160 (64.35 fps)\n",
            "2021-07-10 11:55:23 [INFO]: Processing frame 2190 (64.44 fps)\n",
            "2021-07-10 11:55:23 [INFO]: Processing frame 2190 (64.44 fps)\n",
            "2021-07-10 11:55:26 [INFO]: Processing frame 2220 (64.45 fps)\n",
            "2021-07-10 11:55:26 [INFO]: Processing frame 2220 (64.45 fps)\n",
            "2021-07-10 11:55:29 [INFO]: Processing frame 2250 (64.51 fps)\n",
            "2021-07-10 11:55:29 [INFO]: Processing frame 2250 (64.51 fps)\n",
            "2021-07-10 11:55:32 [INFO]: Processing frame 2280 (64.59 fps)\n",
            "2021-07-10 11:55:32 [INFO]: Processing frame 2280 (64.59 fps)\n",
            "2021-07-10 11:55:35 [INFO]: Processing frame 2310 (64.66 fps)\n",
            "2021-07-10 11:55:35 [INFO]: Processing frame 2310 (64.66 fps)\n",
            "2021-07-10 11:55:38 [INFO]: Processing frame 2340 (64.68 fps)\n",
            "2021-07-10 11:55:38 [INFO]: Processing frame 2340 (64.68 fps)\n",
            "2021-07-10 11:55:41 [INFO]: Processing frame 2370 (64.70 fps)\n",
            "2021-07-10 11:55:41 [INFO]: Processing frame 2370 (64.70 fps)\n",
            "2021-07-10 11:55:44 [INFO]: Processing frame 2400 (64.76 fps)\n",
            "2021-07-10 11:55:44 [INFO]: Processing frame 2400 (64.76 fps)\n",
            "2021-07-10 11:55:47 [INFO]: Processing frame 2430 (64.75 fps)\n",
            "2021-07-10 11:55:47 [INFO]: Processing frame 2430 (64.75 fps)\n",
            "2021-07-10 11:55:50 [INFO]: Processing frame 2460 (64.79 fps)\n",
            "2021-07-10 11:55:50 [INFO]: Processing frame 2460 (64.79 fps)\n",
            "2021-07-10 11:55:54 [INFO]: Processing frame 2490 (64.81 fps)\n",
            "2021-07-10 11:55:54 [INFO]: Processing frame 2490 (64.81 fps)\n",
            "2021-07-10 11:55:57 [INFO]: Processing frame 2520 (64.82 fps)\n",
            "2021-07-10 11:55:57 [INFO]: Processing frame 2520 (64.82 fps)\n",
            "2021-07-10 11:56:00 [INFO]: Processing frame 2550 (64.82 fps)\n",
            "2021-07-10 11:56:00 [INFO]: Processing frame 2550 (64.82 fps)\n",
            "2021-07-10 11:56:03 [INFO]: Processing frame 2580 (64.78 fps)\n",
            "2021-07-10 11:56:03 [INFO]: Processing frame 2580 (64.78 fps)\n",
            "2021-07-10 11:56:06 [INFO]: Processing frame 2610 (64.78 fps)\n",
            "2021-07-10 11:56:06 [INFO]: Processing frame 2610 (64.78 fps)\n",
            "2021-07-10 11:56:09 [INFO]: Processing frame 2640 (64.74 fps)\n",
            "2021-07-10 11:56:09 [INFO]: Processing frame 2640 (64.74 fps)\n",
            "2021-07-10 11:56:12 [INFO]: Processing frame 2670 (64.73 fps)\n",
            "2021-07-10 11:56:12 [INFO]: Processing frame 2670 (64.73 fps)\n",
            "2021-07-10 11:56:15 [INFO]: Processing frame 2700 (64.72 fps)\n",
            "2021-07-10 11:56:15 [INFO]: Processing frame 2700 (64.72 fps)\n",
            "2021-07-10 11:56:18 [INFO]: Processing frame 2730 (64.72 fps)\n",
            "2021-07-10 11:56:18 [INFO]: Processing frame 2730 (64.72 fps)\n",
            "2021-07-10 11:56:21 [INFO]: Processing frame 2760 (64.74 fps)\n",
            "2021-07-10 11:56:21 [INFO]: Processing frame 2760 (64.74 fps)\n",
            "2021-07-10 11:56:24 [INFO]: Processing frame 2790 (64.81 fps)\n",
            "2021-07-10 11:56:24 [INFO]: Processing frame 2790 (64.81 fps)\n",
            "2021-07-10 11:56:27 [INFO]: Processing frame 2820 (64.87 fps)\n",
            "2021-07-10 11:56:27 [INFO]: Processing frame 2820 (64.87 fps)\n",
            "2021-07-10 11:56:30 [INFO]: Processing frame 2850 (64.93 fps)\n",
            "2021-07-10 11:56:30 [INFO]: Processing frame 2850 (64.93 fps)\n",
            "2021-07-10 11:56:33 [INFO]: Processing frame 2880 (64.91 fps)\n",
            "2021-07-10 11:56:33 [INFO]: Processing frame 2880 (64.91 fps)\n",
            "2021-07-10 11:56:36 [INFO]: Processing frame 2910 (64.90 fps)\n",
            "2021-07-10 11:56:36 [INFO]: Processing frame 2910 (64.90 fps)\n",
            "2021-07-10 11:56:39 [INFO]: Processing frame 2940 (64.88 fps)\n",
            "2021-07-10 11:56:39 [INFO]: Processing frame 2940 (64.88 fps)\n",
            "2021-07-10 11:56:43 [INFO]: Processing frame 2970 (64.88 fps)\n",
            "2021-07-10 11:56:43 [INFO]: Processing frame 2970 (64.88 fps)\n",
            "2021-07-10 11:56:46 [INFO]: Processing frame 3000 (64.91 fps)\n",
            "2021-07-10 11:56:46 [INFO]: Processing frame 3000 (64.91 fps)\n",
            "2021-07-10 11:56:49 [INFO]: Processing frame 3030 (64.90 fps)\n",
            "2021-07-10 11:56:49 [INFO]: Processing frame 3030 (64.90 fps)\n",
            "2021-07-10 11:56:52 [INFO]: Processing frame 3060 (64.93 fps)\n",
            "2021-07-10 11:56:52 [INFO]: Processing frame 3060 (64.93 fps)\n",
            "2021-07-10 11:56:55 [INFO]: Processing frame 3090 (64.96 fps)\n",
            "2021-07-10 11:56:55 [INFO]: Processing frame 3090 (64.96 fps)\n",
            "2021-07-10 11:56:58 [INFO]: Processing frame 3120 (65.00 fps)\n",
            "2021-07-10 11:56:58 [INFO]: Processing frame 3120 (65.00 fps)\n",
            "2021-07-10 11:57:01 [INFO]: Processing frame 3150 (64.99 fps)\n",
            "2021-07-10 11:57:01 [INFO]: Processing frame 3150 (64.99 fps)\n",
            "2021-07-10 11:57:04 [INFO]: Processing frame 3180 (64.95 fps)\n",
            "2021-07-10 11:57:04 [INFO]: Processing frame 3180 (64.95 fps)\n",
            "2021-07-10 11:57:07 [INFO]: Processing frame 3210 (64.95 fps)\n",
            "2021-07-10 11:57:07 [INFO]: Processing frame 3210 (64.95 fps)\n",
            "2021-07-10 11:57:10 [INFO]: Processing frame 3240 (64.95 fps)\n",
            "2021-07-10 11:57:10 [INFO]: Processing frame 3240 (64.95 fps)\n",
            "2021-07-10 11:57:13 [INFO]: Processing frame 3270 (64.97 fps)\n",
            "2021-07-10 11:57:13 [INFO]: Processing frame 3270 (64.97 fps)\n",
            "2021-07-10 11:57:16 [INFO]: Processing frame 3300 (64.98 fps)\n",
            "2021-07-10 11:57:16 [INFO]: Processing frame 3300 (64.98 fps)\n",
            "2021-07-10 11:57:19 [INFO]: Processing frame 3330 (64.96 fps)\n",
            "2021-07-10 11:57:19 [INFO]: Processing frame 3330 (64.96 fps)\n",
            "2021-07-10 11:57:22 [INFO]: Processing frame 3360 (64.98 fps)\n",
            "2021-07-10 11:57:22 [INFO]: Processing frame 3360 (64.98 fps)\n",
            "2021-07-10 11:57:25 [INFO]: Processing frame 3390 (65.02 fps)\n",
            "2021-07-10 11:57:25 [INFO]: Processing frame 3390 (65.02 fps)\n",
            "2021-07-10 11:57:28 [INFO]: Processing frame 3420 (65.03 fps)\n",
            "2021-07-10 11:57:28 [INFO]: Processing frame 3420 (65.03 fps)\n",
            "2021-07-10 11:57:31 [INFO]: Processing frame 3450 (65.02 fps)\n",
            "2021-07-10 11:57:31 [INFO]: Processing frame 3450 (65.02 fps)\n",
            "2021-07-10 11:57:35 [INFO]: Processing frame 3480 (64.98 fps)\n",
            "2021-07-10 11:57:35 [INFO]: Processing frame 3480 (64.98 fps)\n",
            "2021-07-10 11:57:38 [INFO]: Processing frame 3510 (64.99 fps)\n",
            "2021-07-10 11:57:38 [INFO]: Processing frame 3510 (64.99 fps)\n",
            "2021-07-10 11:57:41 [INFO]: Processing frame 3540 (64.98 fps)\n",
            "2021-07-10 11:57:41 [INFO]: Processing frame 3540 (64.98 fps)\n",
            "2021-07-10 11:57:44 [INFO]: Processing frame 3570 (64.98 fps)\n",
            "2021-07-10 11:57:44 [INFO]: Processing frame 3570 (64.98 fps)\n",
            "2021-07-10 11:57:47 [INFO]: Processing frame 3600 (64.97 fps)\n",
            "2021-07-10 11:57:47 [INFO]: Processing frame 3600 (64.97 fps)\n",
            "2021-07-10 11:57:50 [INFO]: Processing frame 3630 (64.96 fps)\n",
            "2021-07-10 11:57:50 [INFO]: Processing frame 3630 (64.96 fps)\n",
            "2021-07-10 11:57:53 [INFO]: Processing frame 3660 (64.98 fps)\n",
            "2021-07-10 11:57:53 [INFO]: Processing frame 3660 (64.98 fps)\n",
            "2021-07-10 11:57:56 [INFO]: Processing frame 3690 (64.97 fps)\n",
            "2021-07-10 11:57:56 [INFO]: Processing frame 3690 (64.97 fps)\n",
            "2021-07-10 11:57:59 [INFO]: Processing frame 3720 (64.96 fps)\n",
            "2021-07-10 11:57:59 [INFO]: Processing frame 3720 (64.96 fps)\n",
            "2021-07-10 11:58:02 [INFO]: Processing frame 3750 (64.95 fps)\n",
            "2021-07-10 11:58:02 [INFO]: Processing frame 3750 (64.95 fps)\n",
            "2021-07-10 11:58:06 [INFO]: Processing frame 3780 (64.84 fps)\n",
            "2021-07-10 11:58:06 [INFO]: Processing frame 3780 (64.84 fps)\n",
            "2021-07-10 11:58:09 [INFO]: Processing frame 3810 (64.81 fps)\n",
            "2021-07-10 11:58:09 [INFO]: Processing frame 3810 (64.81 fps)\n",
            "2021-07-10 11:58:12 [INFO]: Processing frame 3840 (64.77 fps)\n",
            "2021-07-10 11:58:12 [INFO]: Processing frame 3840 (64.77 fps)\n",
            "2021-07-10 11:58:15 [INFO]: Processing frame 3870 (64.75 fps)\n",
            "2021-07-10 11:58:15 [INFO]: Processing frame 3870 (64.75 fps)\n",
            "2021-07-10 11:58:18 [INFO]: Processing frame 3900 (64.71 fps)\n",
            "2021-07-10 11:58:18 [INFO]: Processing frame 3900 (64.71 fps)\n",
            "2021-07-10 11:58:21 [INFO]: Processing frame 3930 (64.70 fps)\n",
            "2021-07-10 11:58:21 [INFO]: Processing frame 3930 (64.70 fps)\n",
            "2021-07-10 11:58:25 [INFO]: Processing frame 3960 (64.66 fps)\n",
            "2021-07-10 11:58:25 [INFO]: Processing frame 3960 (64.66 fps)\n",
            "2021-07-10 11:58:28 [INFO]: Processing frame 3990 (64.63 fps)\n",
            "2021-07-10 11:58:28 [INFO]: Processing frame 3990 (64.63 fps)\n",
            "2021-07-10 11:58:31 [INFO]: Processing frame 4020 (64.59 fps)\n",
            "2021-07-10 11:58:31 [INFO]: Processing frame 4020 (64.59 fps)\n",
            "2021-07-10 11:58:34 [INFO]: Processing frame 4050 (64.55 fps)\n",
            "2021-07-10 11:58:34 [INFO]: Processing frame 4050 (64.55 fps)\n",
            "2021-07-10 11:58:38 [INFO]: Processing frame 4080 (64.50 fps)\n",
            "2021-07-10 11:58:38 [INFO]: Processing frame 4080 (64.50 fps)\n",
            "2021-07-10 11:58:41 [INFO]: Processing frame 4110 (64.47 fps)\n",
            "2021-07-10 11:58:41 [INFO]: Processing frame 4110 (64.47 fps)\n",
            "2021-07-10 11:58:44 [INFO]: Processing frame 4140 (64.42 fps)\n",
            "2021-07-10 11:58:44 [INFO]: Processing frame 4140 (64.42 fps)\n",
            "2021-07-10 11:58:47 [INFO]: Processing frame 4170 (64.36 fps)\n",
            "2021-07-10 11:58:47 [INFO]: Processing frame 4170 (64.36 fps)\n",
            "2021-07-10 11:58:50 [INFO]: Processing frame 4200 (64.32 fps)\n",
            "2021-07-10 11:58:50 [INFO]: Processing frame 4200 (64.32 fps)\n",
            "2021-07-10 11:58:54 [INFO]: Processing frame 4230 (64.29 fps)\n",
            "2021-07-10 11:58:54 [INFO]: Processing frame 4230 (64.29 fps)\n",
            "2021-07-10 11:58:57 [INFO]: Processing frame 4260 (64.25 fps)\n",
            "2021-07-10 11:58:57 [INFO]: Processing frame 4260 (64.25 fps)\n",
            "2021-07-10 11:59:00 [INFO]: Processing frame 4290 (64.21 fps)\n",
            "2021-07-10 11:59:00 [INFO]: Processing frame 4290 (64.21 fps)\n",
            "2021-07-10 11:59:03 [INFO]: Processing frame 4320 (64.18 fps)\n",
            "2021-07-10 11:59:03 [INFO]: Processing frame 4320 (64.18 fps)\n",
            "2021-07-10 11:59:07 [INFO]: Processing frame 4350 (64.16 fps)\n",
            "2021-07-10 11:59:07 [INFO]: Processing frame 4350 (64.16 fps)\n",
            "2021-07-10 11:59:10 [INFO]: Processing frame 4380 (64.14 fps)\n",
            "2021-07-10 11:59:10 [INFO]: Processing frame 4380 (64.14 fps)\n",
            "2021-07-10 11:59:13 [INFO]: Processing frame 4410 (64.12 fps)\n",
            "2021-07-10 11:59:13 [INFO]: Processing frame 4410 (64.12 fps)\n",
            "2021-07-10 11:59:16 [INFO]: Processing frame 4440 (64.13 fps)\n",
            "2021-07-10 11:59:16 [INFO]: Processing frame 4440 (64.13 fps)\n",
            "2021-07-10 11:59:19 [INFO]: Processing frame 4470 (64.15 fps)\n",
            "2021-07-10 11:59:19 [INFO]: Processing frame 4470 (64.15 fps)\n",
            "2021-07-10 11:59:22 [INFO]: Processing frame 4500 (64.17 fps)\n",
            "2021-07-10 11:59:22 [INFO]: Processing frame 4500 (64.17 fps)\n",
            "2021-07-10 11:59:25 [INFO]: Processing frame 4530 (64.20 fps)\n",
            "2021-07-10 11:59:25 [INFO]: Processing frame 4530 (64.20 fps)\n",
            "2021-07-10 11:59:28 [INFO]: Processing frame 4560 (64.23 fps)\n",
            "2021-07-10 11:59:28 [INFO]: Processing frame 4560 (64.23 fps)\n",
            "2021-07-10 11:59:31 [INFO]: Processing frame 4590 (64.27 fps)\n",
            "2021-07-10 11:59:31 [INFO]: Processing frame 4590 (64.27 fps)\n",
            "2021-07-10 11:59:34 [INFO]: Processing frame 4620 (64.28 fps)\n",
            "2021-07-10 11:59:34 [INFO]: Processing frame 4620 (64.28 fps)\n",
            "2021-07-10 11:59:37 [INFO]: Processing frame 4650 (64.30 fps)\n",
            "2021-07-10 11:59:37 [INFO]: Processing frame 4650 (64.30 fps)\n",
            "2021-07-10 11:59:40 [INFO]: Processing frame 4680 (64.30 fps)\n",
            "2021-07-10 11:59:40 [INFO]: Processing frame 4680 (64.30 fps)\n",
            "2021-07-10 11:59:43 [INFO]: Processing frame 4710 (64.29 fps)\n",
            "2021-07-10 11:59:43 [INFO]: Processing frame 4710 (64.29 fps)\n",
            "2021-07-10 11:59:46 [INFO]: Processing frame 4740 (64.29 fps)\n",
            "2021-07-10 11:59:46 [INFO]: Processing frame 4740 (64.29 fps)\n",
            "2021-07-10 11:59:49 [INFO]: Processing frame 4770 (64.29 fps)\n",
            "2021-07-10 11:59:49 [INFO]: Processing frame 4770 (64.29 fps)\n",
            "2021-07-10 11:59:52 [INFO]: Processing frame 4800 (64.27 fps)\n",
            "2021-07-10 11:59:52 [INFO]: Processing frame 4800 (64.27 fps)\n",
            "2021-07-10 11:59:56 [INFO]: Processing frame 4830 (64.25 fps)\n",
            "2021-07-10 11:59:56 [INFO]: Processing frame 4830 (64.25 fps)\n",
            "2021-07-10 11:59:59 [INFO]: Processing frame 4860 (64.23 fps)\n",
            "2021-07-10 11:59:59 [INFO]: Processing frame 4860 (64.23 fps)\n",
            "2021-07-10 12:00:02 [INFO]: Processing frame 4890 (64.22 fps)\n",
            "2021-07-10 12:00:02 [INFO]: Processing frame 4890 (64.22 fps)\n",
            "2021-07-10 12:00:05 [INFO]: Processing frame 4920 (64.21 fps)\n",
            "2021-07-10 12:00:05 [INFO]: Processing frame 4920 (64.21 fps)\n",
            "2021-07-10 12:00:08 [INFO]: Processing frame 4950 (64.21 fps)\n",
            "2021-07-10 12:00:08 [INFO]: Processing frame 4950 (64.21 fps)\n",
            "2021-07-10 12:00:11 [INFO]: Processing frame 4980 (64.19 fps)\n",
            "2021-07-10 12:00:11 [INFO]: Processing frame 4980 (64.19 fps)\n",
            "2021-07-10 12:00:14 [INFO]: Processing frame 5010 (64.18 fps)\n",
            "2021-07-10 12:00:14 [INFO]: Processing frame 5010 (64.18 fps)\n",
            "2021-07-10 12:00:17 [INFO]: Processing frame 5040 (64.18 fps)\n",
            "2021-07-10 12:00:17 [INFO]: Processing frame 5040 (64.18 fps)\n",
            "2021-07-10 12:00:20 [INFO]: Processing frame 5070 (64.18 fps)\n",
            "2021-07-10 12:00:20 [INFO]: Processing frame 5070 (64.18 fps)\n",
            "2021-07-10 12:00:23 [INFO]: Processing frame 5100 (64.17 fps)\n",
            "2021-07-10 12:00:23 [INFO]: Processing frame 5100 (64.17 fps)\n",
            "2021-07-10 12:00:26 [INFO]: Processing frame 5130 (64.15 fps)\n",
            "2021-07-10 12:00:26 [INFO]: Processing frame 5130 (64.15 fps)\n",
            "2021-07-10 12:00:29 [INFO]: Processing frame 5160 (64.17 fps)\n",
            "2021-07-10 12:00:29 [INFO]: Processing frame 5160 (64.17 fps)\n",
            "2021-07-10 12:00:32 [INFO]: Processing frame 5190 (64.17 fps)\n",
            "2021-07-10 12:00:32 [INFO]: Processing frame 5190 (64.17 fps)\n",
            "2021-07-10 12:00:36 [INFO]: Processing frame 5220 (64.21 fps)\n",
            "2021-07-10 12:00:36 [INFO]: Processing frame 5220 (64.21 fps)\n",
            "2021-07-10 12:00:39 [INFO]: Processing frame 5250 (64.24 fps)\n",
            "2021-07-10 12:00:39 [INFO]: Processing frame 5250 (64.24 fps)\n",
            "2021-07-10 12:00:42 [INFO]: Processing frame 5280 (64.27 fps)\n",
            "2021-07-10 12:00:42 [INFO]: Processing frame 5280 (64.27 fps)\n",
            "2021-07-10 12:00:45 [INFO]: Processing frame 5310 (64.27 fps)\n",
            "2021-07-10 12:00:45 [INFO]: Processing frame 5310 (64.27 fps)\n",
            "2021-07-10 12:00:48 [INFO]: Processing frame 5340 (64.27 fps)\n",
            "2021-07-10 12:00:48 [INFO]: Processing frame 5340 (64.27 fps)\n",
            "2021-07-10 12:00:51 [INFO]: Processing frame 5370 (64.29 fps)\n",
            "2021-07-10 12:00:51 [INFO]: Processing frame 5370 (64.29 fps)\n",
            "2021-07-10 12:00:54 [INFO]: Processing frame 5400 (64.30 fps)\n",
            "2021-07-10 12:00:54 [INFO]: Processing frame 5400 (64.30 fps)\n",
            "2021-07-10 12:00:57 [INFO]: Processing frame 5430 (64.30 fps)\n",
            "2021-07-10 12:00:57 [INFO]: Processing frame 5430 (64.30 fps)\n",
            "2021-07-10 12:01:00 [INFO]: Processing frame 5460 (64.30 fps)\n",
            "2021-07-10 12:01:00 [INFO]: Processing frame 5460 (64.30 fps)\n",
            "2021-07-10 12:01:03 [INFO]: Processing frame 5490 (64.29 fps)\n",
            "2021-07-10 12:01:03 [INFO]: Processing frame 5490 (64.29 fps)\n",
            "2021-07-10 12:01:06 [INFO]: Processing frame 5520 (64.27 fps)\n",
            "2021-07-10 12:01:06 [INFO]: Processing frame 5520 (64.27 fps)\n",
            "2021-07-10 12:01:09 [INFO]: Processing frame 5550 (64.26 fps)\n",
            "2021-07-10 12:01:09 [INFO]: Processing frame 5550 (64.26 fps)\n",
            "2021-07-10 12:01:12 [INFO]: Processing frame 5580 (64.23 fps)\n",
            "2021-07-10 12:01:12 [INFO]: Processing frame 5580 (64.23 fps)\n",
            "2021-07-10 12:01:15 [INFO]: Processing frame 5610 (64.20 fps)\n",
            "2021-07-10 12:01:15 [INFO]: Processing frame 5610 (64.20 fps)\n",
            "2021-07-10 12:01:18 [INFO]: Processing frame 5640 (64.19 fps)\n",
            "2021-07-10 12:01:18 [INFO]: Processing frame 5640 (64.19 fps)\n",
            "2021-07-10 12:01:21 [INFO]: Processing frame 5670 (64.18 fps)\n",
            "2021-07-10 12:01:21 [INFO]: Processing frame 5670 (64.18 fps)\n",
            "2021-07-10 12:01:25 [INFO]: Processing frame 5700 (64.17 fps)\n",
            "2021-07-10 12:01:25 [INFO]: Processing frame 5700 (64.17 fps)\n",
            "2021-07-10 12:01:28 [INFO]: Processing frame 5730 (64.16 fps)\n",
            "2021-07-10 12:01:28 [INFO]: Processing frame 5730 (64.16 fps)\n",
            "2021-07-10 12:01:31 [INFO]: Processing frame 5760 (64.17 fps)\n",
            "2021-07-10 12:01:31 [INFO]: Processing frame 5760 (64.17 fps)\n",
            "2021-07-10 12:01:34 [INFO]: Processing frame 5790 (64.14 fps)\n",
            "2021-07-10 12:01:34 [INFO]: Processing frame 5790 (64.14 fps)\n",
            "2021-07-10 12:01:37 [INFO]: Processing frame 5820 (64.15 fps)\n",
            "2021-07-10 12:01:37 [INFO]: Processing frame 5820 (64.15 fps)\n",
            "2021-07-10 12:01:40 [INFO]: Processing frame 5850 (64.17 fps)\n",
            "2021-07-10 12:01:40 [INFO]: Processing frame 5850 (64.17 fps)\n",
            "2021-07-10 12:01:43 [INFO]: Processing frame 5880 (64.19 fps)\n",
            "2021-07-10 12:01:43 [INFO]: Processing frame 5880 (64.19 fps)\n",
            "2021-07-10 12:01:46 [INFO]: Processing frame 5910 (64.21 fps)\n",
            "2021-07-10 12:01:46 [INFO]: Processing frame 5910 (64.21 fps)\n",
            "2021-07-10 12:01:49 [INFO]: Processing frame 5940 (64.24 fps)\n",
            "2021-07-10 12:01:49 [INFO]: Processing frame 5940 (64.24 fps)\n",
            "2021-07-10 12:01:52 [INFO]: Processing frame 5970 (64.26 fps)\n",
            "2021-07-10 12:01:52 [INFO]: Processing frame 5970 (64.26 fps)\n",
            "2021-07-10 12:01:55 [INFO]: save results to ../results/content_drive_MyDrive_fairmot_data_combined_vids_ATC02_24_07_2018_night_10_min_slice_results.txt_origional_code_writing_results.csv\n",
            "2021-07-10 12:01:55 [INFO]: save results to ../results/content_drive_MyDrive_fairmot_data_combined_vids_ATC02_24_07_2018_night_10_min_slice_results.txt_origional_code_writing_results.csv\n"
          ],
          "name": "stdout"
        }
      ]
    },
    {
      "cell_type": "code",
      "metadata": {
        "id": "16FTULtRILw9"
      },
      "source": [
        "# put frames to videos\n",
        "%cd /content/drive/MyDrive/graduation_project/FairMOT/MCMOT/src\n",
        "!ffmpeg -f image2  -i \"../results/frame/%05d.jpg\" -codec copy -r 30 ../results/ATC02_24_07_2018_night_10_min_slice.mp4"
      ],
      "execution_count": null,
      "outputs": []
    }
  ]
}